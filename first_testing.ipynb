{
 "cells": [
  {
   "cell_type": "code",
   "execution_count": 1,
   "id": "7a3d61cb-7df8-4ee6-bece-34b395aff8b5",
   "metadata": {},
   "outputs": [],
   "source": [
    "from pydeen.auth import AuthBasic\n",
    "from pydeen.sap_abap import SAPAbapHttpBackend, SAPAbapODataConnector"
   ]
  },
  {
   "cell_type": "code",
   "execution_count": 13,
   "id": "5f34096e-05fd-43e8-a35b-dfd690c906fa",
   "metadata": {},
   "outputs": [],
   "source": [
    "sap_host = \"https://10.2.17.31:5000\"\n",
    "sap_client = \"212\" \n",
    "sap_name = \"M31\""
   ]
  },
  {
   "cell_type": "code",
   "execution_count": 14,
   "id": "c4c16a9c-1c12-4469-83ad-92df6d745f41",
   "metadata": {},
   "outputs": [
    {
     "name": "stdout",
     "output_type": "stream",
     "text": [
      "\n",
      "PyDEEN Menu\n",
      "===========\n",
      "1 - Set path for auth info (None)\n",
      "2 - Set name auth info (M31)\n",
      "3 - Load auth info\n",
      "4 - Set user password\n",
      "Q - Quit\n"
     ]
    },
    {
     "name": "stdin",
     "output_type": "stream",
     "text": [
      "\n",
      "Enter your selection:  4\n"
     ]
    },
    {
     "name": "stdout",
     "output_type": "stream",
     "text": [
      "\n"
     ]
    },
    {
     "name": "stdin",
     "output_type": "stream",
     "text": [
      "Enter username:  teach-007\n",
      "Enter password:  ············\n"
     ]
    },
    {
     "name": "stdout",
     "output_type": "stream",
     "text": [
      "auth info set\n",
      "use name M31 for auth\n",
      "\n",
      "PyDEEN Menu\n",
      "===========\n",
      "1 - Set path for auth info (None)\n",
      "2 - Set name auth info (M31)\n",
      "3 - Save current auth info\n",
      "4 - Generate HTTP Header Authorization parameter\n",
      "5 - Reset auth info\n",
      "Q - Quit\n"
     ]
    },
    {
     "name": "stdin",
     "output_type": "stream",
     "text": [
      "\n",
      "Enter your selection:  Q\n"
     ]
    },
    {
     "name": "stdout",
     "output_type": "stream",
     "text": [
      "\n"
     ]
    }
   ],
   "source": [
    "auth = AuthBasic()\n",
    "auth.set_menu_context(sap_name)\n",
    "if not auth.load_config(auth.get_menu_filename()):\n",
    "    auth.menu()"
   ]
  },
  {
   "cell_type": "code",
   "execution_count": 15,
   "id": "a076e430-cdc3-4d85-b88b-2d8645fd2ec7",
   "metadata": {},
   "outputs": [],
   "source": [
    "backend = SAPAbapHttpBackend(sap_name, sap_host, sap_client, auth=auth)\n",
    "connector = SAPAbapODataConnector(backend)"
   ]
  },
  {
   "cell_type": "code",
   "execution_count": 16,
   "id": "7db98d8f-33b8-44fe-9a07-fba48c17bb72",
   "metadata": {},
   "outputs": [
    {
     "name": "stdout",
     "output_type": "stream",
     "text": [
      "\n",
      "SAP NetWeaver ABAP OData Connector - Menu\n",
      "=========================================\n",
      "1 - Search OData endpoints in ABAP backend\n",
      "2 - Reset menu context\n",
      "Q - Quit\n"
     ]
    },
    {
     "name": "stdin",
     "output_type": "stream",
     "text": [
      "\n",
      "Enter your selection:  1\n"
     ]
    },
    {
     "name": "stdout",
     "output_type": "stream",
     "text": [
      "\n",
      "URL: https://10.2.17.31:5000/sap/opu/odata/IWFND/CATALOGSERVICE;v=2/ServiceCollection?$top=10000&$format=json&sap-client=212\n",
      "Errors occured: <class 'requests.exceptions.ConnectionError'> HTTPSConnectionPool(host='10.2.17.31', port=5000): Max retries exceeded with url: /sap/opu/odata/IWFND/CATALOGSERVICE;v=2/ServiceCollection?$top=10000&$format=json&sap-client=212 (Caused by NewConnectionError('<urllib3.connection.HTTPSConnection object at 0x0000022DAA671F70>: Failed to establish a new connection: [WinError 10060] A connection attempt failed because the connected party did not properly respond after a period of time, or established connection failed because connected host has failed to respond'))\n",
      "\n",
      "SAP NetWeaver ABAP OData Connector - Menu\n",
      "=========================================\n",
      "1 - Search OData endpoints in ABAP backend\n",
      "2 - Reset menu context\n",
      "Q - Quit\n"
     ]
    },
    {
     "name": "stdin",
     "output_type": "stream",
     "text": [
      "\n",
      "Enter your selection:  Q\n"
     ]
    },
    {
     "name": "stdout",
     "output_type": "stream",
     "text": [
      "\n"
     ]
    }
   ],
   "source": [
    "connector.menu()"
   ]
  },
  {
   "cell_type": "code",
   "execution_count": 6,
   "id": "580e2ea7-07e2-44d7-aca8-dd454d6c6f39",
   "metadata": {},
   "outputs": [
    {
     "name": "stdout",
     "output_type": "stream",
     "text": [
      "None\n"
     ]
    }
   ],
   "source": [
    "result = connector.get_current_result()\n",
    "print(result)"
   ]
  },
  {
   "cell_type": "code",
   "execution_count": 7,
   "id": "05c0b6df-9eed-49bc-9cc2-e21360cdd4f6",
   "metadata": {},
   "outputs": [
    {
     "ename": "AttributeError",
     "evalue": "'NoneType' object has no attribute 'head'",
     "output_type": "error",
     "traceback": [
      "\u001b[1;31m---------------------------------------------------------------------------\u001b[0m",
      "\u001b[1;31mAttributeError\u001b[0m                            Traceback (most recent call last)",
      "\u001b[1;32m~\\AppData\\Local\\Temp/ipykernel_25964/4081102489.py\u001b[0m in \u001b[0;36m<module>\u001b[1;34m\u001b[0m\n\u001b[0;32m      1\u001b[0m \u001b[0mdf\u001b[0m \u001b[1;33m=\u001b[0m \u001b[0mconnector\u001b[0m\u001b[1;33m.\u001b[0m\u001b[0mget_current_result_as_pandas_df\u001b[0m\u001b[1;33m(\u001b[0m\u001b[1;33m)\u001b[0m\u001b[1;33m\u001b[0m\u001b[1;33m\u001b[0m\u001b[0m\n\u001b[1;32m----> 2\u001b[1;33m \u001b[0mdf\u001b[0m\u001b[1;33m.\u001b[0m\u001b[0mhead\u001b[0m\u001b[1;33m(\u001b[0m\u001b[1;33m)\u001b[0m\u001b[1;33m\u001b[0m\u001b[1;33m\u001b[0m\u001b[0m\n\u001b[0m\u001b[0;32m      3\u001b[0m \u001b[0mdf\u001b[0m\u001b[1;33m.\u001b[0m\u001b[0minfo\u001b[0m\u001b[1;33m(\u001b[0m\u001b[1;33m)\u001b[0m\u001b[1;33m\u001b[0m\u001b[1;33m\u001b[0m\u001b[0m\n",
      "\u001b[1;31mAttributeError\u001b[0m: 'NoneType' object has no attribute 'head'"
     ]
    }
   ],
   "source": [
    "df = connector.get_current_result_as_pandas_df()\n",
    "df.head()\n",
    "df.info()"
   ]
  },
  {
   "cell_type": "code",
   "execution_count": 6,
   "id": "7fcaa23c-718c-4694-a323-daf544842f86",
   "metadata": {},
   "outputs": [
    {
     "name": "stdout",
     "output_type": "stream",
     "text": [
      "pydeen.SAPAbapDeebConnector to pydeen.SAPAbapHttpBackend\n"
     ]
    }
   ],
   "source": [
    "from pydeen.sap_deeb import SAPAbapDeebConnector\n",
    "conn_sap_deeb = SAPAbapDeebConnector(backend)\n",
    "print(conn_sap_deeb)"
   ]
  },
  {
   "cell_type": "code",
   "execution_count": 7,
   "id": "2a39d801-14ba-4d29-a404-b9f8ad82004b",
   "metadata": {},
   "outputs": [
    {
     "name": "stdout",
     "output_type": "stream",
     "text": [
      "\n",
      "SAP ABAP DEEB Connector - Menu\n",
      "==============================\n",
      "1 - Ping ABAP Backend DEEB Service\n",
      "2 - Search table\n",
      "3 - Search cds view\n",
      "4 - Excecute SQL Select Statement\n",
      "5 - Import pandas dataframe\n",
      "6 - Reset menu context\n",
      "Q - Quit\n"
     ]
    },
    {
     "name": "stdin",
     "output_type": "stream",
     "text": [
      "\n",
      "Enter your selection:  1\n"
     ]
    },
    {
     "name": "stdout",
     "output_type": "stream",
     "text": [
      "\n",
      "URL: http://H/cloud.ucc.ovgu.de/S/3299/sap/bc/bsp/sap/zdeeb_ws/ping?sap-client=M31\n",
      "Errors occured: <class 'requests.exceptions.ConnectionError'> HTTPConnectionPool(host='h', port=80): Max retries exceeded with url: /cloud.ucc.ovgu.de/S/3299/sap/bc/bsp/sap/zdeeb_ws/ping?sap-client=M31 (Caused by NewConnectionError('<urllib3.connection.HTTPConnection object at 0x00000169D02766D0>: Failed to establish a new connection: [Errno 11001] getaddrinfo failed'))\n",
      "\n",
      "SAP ABAP DEEB Connector - Menu\n",
      "==============================\n",
      "1 - Ping ABAP Backend DEEB Service\n",
      "2 - Search table\n",
      "3 - Search cds view\n",
      "4 - Excecute SQL Select Statement\n",
      "5 - Import pandas dataframe\n",
      "6 - Reset menu context\n",
      "Q - Quit\n"
     ]
    },
    {
     "name": "stdin",
     "output_type": "stream",
     "text": [
      "\n",
      "Enter your selection:  2\n"
     ]
    },
    {
     "name": "stdout",
     "output_type": "stream",
     "text": [
      "\n"
     ]
    },
    {
     "name": "stdin",
     "output_type": "stream",
     "text": [
      "Enter Wildcard for table (use '*'):  *cost\n"
     ]
    },
    {
     "name": "stdout",
     "output_type": "stream",
     "text": [
      "URL: http://H/cloud.ucc.ovgu.de/S/3299/sap/bc/bsp/sap/zdeeb_ws/sql_select?sap-client=M31\n",
      "ERROR: Error while selecting tables with wildcard *cost: <class 'requests.exceptions.ConnectionError'> - HTTPConnectionPool(host='h', port=80): Max retries exceeded with url: /cloud.ucc.ovgu.de/S/3299/sap/bc/bsp/sap/zdeeb_ws/sql_select?sap-client=M31 (Caused by NewConnectionError('<urllib3.connection.HTTPConnection object at 0x00000169D0276070>: Failed to establish a new connection: [Errno 11001] getaddrinfo failed'))\n",
      "No results\n",
      "\n",
      "SAP ABAP DEEB Connector - Menu\n",
      "==============================\n",
      "1 - Ping ABAP Backend DEEB Service\n",
      "2 - Search table\n",
      "3 - Search cds view\n",
      "4 - Excecute SQL Select Statement\n",
      "5 - Import pandas dataframe\n",
      "6 - Reset menu context\n",
      "Q - Quit\n"
     ]
    },
    {
     "name": "stdin",
     "output_type": "stream",
     "text": [
      "\n",
      "Enter your selection:  Q\n"
     ]
    },
    {
     "name": "stdout",
     "output_type": "stream",
     "text": [
      "\n"
     ]
    }
   ],
   "source": [
    "conn_sap_deeb.menu()"
   ]
  },
  {
   "cell_type": "code",
   "execution_count": 1,
   "id": "d9d954f4-acc9-4abe-bd53-574e6499bf1d",
   "metadata": {},
   "outputs": [
    {
     "name": "stdout",
     "output_type": "stream",
     "text": [
      "Nachiket Upadhye\n",
      "Nachiket Upadhye\n",
      "Nachiket Upadhye\n",
      "Nachiket Upadhye\n",
      "Nachiket Upadhye\n",
      "Nachiket Upadhye\n",
      "Nachiket Upadhye\n",
      "Nachiket Upadhye\n",
      "Nachiket Upadhye\n",
      "Nachiket Upadhye\n",
      "Nachiket Upadhye\n",
      "Nachiket Upadhye\n",
      "Nachiket Upadhye\n",
      "Nachiket Upadhye\n",
      "Nachiket Upadhye\n",
      "Nachiket Upadhye\n",
      "Nachiket Upadhye\n",
      "Nachiket Upadhye\n",
      "Nachiket Upadhye\n",
      "Nachiket Upadhye\n",
      "Nachiket Upadhye\n",
      "Nachiket Upadhye\n",
      "Nachiket Upadhye\n",
      "Nachiket Upadhye\n",
      "Nachiket Upadhye\n",
      "Nachiket Upadhye\n",
      "Nachiket Upadhye\n",
      "Nachiket Upadhye\n",
      "Nachiket Upadhye\n",
      "Nachiket Upadhye\n",
      "Nachiket Upadhye\n",
      "Nachiket Upadhye\n",
      "Nachiket Upadhye\n",
      "Nachiket Upadhye\n",
      "Nachiket Upadhye\n",
      "Nachiket Upadhye\n",
      "Nachiket Upadhye\n",
      "Nachiket Upadhye\n",
      "Nachiket Upadhye\n",
      "Nachiket Upadhye\n",
      "Nachiket Upadhye\n",
      "Nachiket Upadhye\n",
      "Nachiket Upadhye\n",
      "Nachiket Upadhye\n",
      "Nachiket Upadhye\n",
      "Nachiket Upadhye\n",
      "Nachiket Upadhye\n",
      "Nachiket Upadhye\n",
      "Nachiket Upadhye\n",
      "Nachiket Upadhye\n",
      "Nachiket Upadhye\n",
      "Nachiket Upadhye\n",
      "Nachiket Upadhye\n",
      "Nachiket Upadhye\n",
      "Nachiket Upadhye\n",
      "Nachiket Upadhye\n",
      "Nachiket Upadhye\n",
      "Nachiket Upadhye\n",
      "Nachiket Upadhye\n",
      "Nachiket Upadhye\n",
      "Nachiket Upadhye\n",
      "Nachiket Upadhye\n",
      "Nachiket Upadhye\n",
      "Nachiket Upadhye\n",
      "Nachiket Upadhye\n",
      "Nachiket Upadhye\n",
      "Nachiket Upadhye\n",
      "Nachiket Upadhye\n",
      "Nachiket Upadhye\n",
      "Nachiket Upadhye\n",
      "Nachiket Upadhye\n",
      "Nachiket Upadhye\n",
      "Nachiket Upadhye\n",
      "Nachiket Upadhye\n",
      "Nachiket Upadhye\n",
      "Nachiket Upadhye\n",
      "Nachiket Upadhye\n",
      "Nachiket Upadhye\n",
      "Nachiket Upadhye\n",
      "Nachiket Upadhye\n",
      "Nachiket Upadhye\n",
      "Nachiket Upadhye\n",
      "Nachiket Upadhye\n",
      "Nachiket Upadhye\n",
      "Nachiket Upadhye\n",
      "Nachiket Upadhye\n",
      "Nachiket Upadhye\n",
      "Nachiket Upadhye\n",
      "Nachiket Upadhye\n",
      "Nachiket Upadhye\n",
      "Nachiket Upadhye\n",
      "Nachiket Upadhye\n",
      "Nachiket Upadhye\n",
      "Nachiket Upadhye\n",
      "Nachiket Upadhye\n",
      "Nachiket Upadhye\n",
      "Nachiket Upadhye\n",
      "Nachiket Upadhye\n",
      "Nachiket Upadhye\n",
      "Nachiket Upadhye\n"
     ]
    }
   ],
   "source": [
    "for i in range(100):\n",
    "    print(\"Nachiket Upadhye\")"
   ]
  },
  {
   "cell_type": "code",
   "execution_count": 2,
   "id": "84f0ba28-d4f9-4648-bba7-690a524c35d3",
   "metadata": {},
   "outputs": [
    {
     "ename": "SyntaxError",
     "evalue": "invalid syntax (Temp/ipykernel_18412/2861376507.py, line 1)",
     "output_type": "error",
     "traceback": [
      "\u001b[1;36m  File \u001b[1;32m\"C:\\Users\\USER\\AppData\\Local\\Temp/ipykernel_18412/2861376507.py\"\u001b[1;36m, line \u001b[1;32m1\u001b[0m\n\u001b[1;33m    import this|\u001b[0m\n\u001b[1;37m               ^\u001b[0m\n\u001b[1;31mSyntaxError\u001b[0m\u001b[1;31m:\u001b[0m invalid syntax\n"
     ]
    }
   ],
   "source": [
    "import this|"
   ]
  },
  {
   "cell_type": "code",
   "execution_count": 3,
   "id": "9655d356-084a-430b-8067-564aa434f794",
   "metadata": {},
   "outputs": [
    {
     "name": "stdout",
     "output_type": "stream",
     "text": [
      "The Zen of Python, by Tim Peters\n",
      "\n",
      "Beautiful is better than ugly.\n",
      "Explicit is better than implicit.\n",
      "Simple is better than complex.\n",
      "Complex is better than complicated.\n",
      "Flat is better than nested.\n",
      "Sparse is better than dense.\n",
      "Readability counts.\n",
      "Special cases aren't special enough to break the rules.\n",
      "Although practicality beats purity.\n",
      "Errors should never pass silently.\n",
      "Unless explicitly silenced.\n",
      "In the face of ambiguity, refuse the temptation to guess.\n",
      "There should be one-- and preferably only one --obvious way to do it.\n",
      "Although that way may not be obvious at first unless you're Dutch.\n",
      "Now is better than never.\n",
      "Although never is often better than *right* now.\n",
      "If the implementation is hard to explain, it's a bad idea.\n",
      "If the implementation is easy to explain, it may be a good idea.\n",
      "Namespaces are one honking great idea -- let's do more of those!\n"
     ]
    }
   ],
   "source": [
    "import this"
   ]
  },
  {
   "cell_type": "code",
   "execution_count": 23,
   "id": "dad554d0-51e6-48bc-9d81-04c0cd5b75e1",
   "metadata": {},
   "outputs": [
    {
     "ename": "Error",
     "evalue": "(-10709, \"Connection failed (RTE:[89006] System call 'connect' failed, rc=10060:A connection attempt failed because the connected party did not properly respond after a period of time, or established connection failed because connected host has failed to respond {0.0.0.0:52542 -> 10.2.17.31:5000} (0.0.0.0:52542 -> 10.2.17.31:5000))\")",
     "output_type": "error",
     "traceback": [
      "\u001b[1;31m---------------------------------------------------------------------------\u001b[0m",
      "\u001b[1;31mError\u001b[0m                                     Traceback (most recent call last)",
      "\u001b[1;32m~\\AppData\\Local\\Temp/ipykernel_23292/3169758033.py\u001b[0m in \u001b[0;36m<module>\u001b[1;34m\u001b[0m\n\u001b[0;32m      2\u001b[0m \u001b[1;32mfrom\u001b[0m \u001b[0mhdbcli\u001b[0m \u001b[1;32mimport\u001b[0m \u001b[0mdbapi\u001b[0m\u001b[1;33m\u001b[0m\u001b[1;33m\u001b[0m\u001b[0m\n\u001b[0;32m      3\u001b[0m \u001b[1;31m#Initialize your connection\u001b[0m\u001b[1;33m\u001b[0m\u001b[1;33m\u001b[0m\u001b[0m\n\u001b[1;32m----> 4\u001b[1;33m conn = dbapi.connect(\n\u001b[0m\u001b[0;32m      5\u001b[0m     \u001b[0maddress\u001b[0m\u001b[1;33m=\u001b[0m\u001b[1;34m'10.2.17.31'\u001b[0m\u001b[1;33m,\u001b[0m\u001b[1;33m\u001b[0m\u001b[1;33m\u001b[0m\u001b[0m\n\u001b[0;32m      6\u001b[0m     \u001b[0mport\u001b[0m\u001b[1;33m=\u001b[0m\u001b[1;34m'5000'\u001b[0m\u001b[1;33m,\u001b[0m\u001b[1;33m\u001b[0m\u001b[1;33m\u001b[0m\u001b[0m\n",
      "\u001b[1;31mError\u001b[0m: (-10709, \"Connection failed (RTE:[89006] System call 'connect' failed, rc=10060:A connection attempt failed because the connected party did not properly respond after a period of time, or established connection failed because connected host has failed to respond {0.0.0.0:52542 -> 10.2.17.31:5000} (0.0.0.0:52542 -> 10.2.17.31:5000))\")"
     ]
    }
   ],
   "source": [
    "\n",
    "#Import your dependencies\n",
    "from hdbcli import dbapi\n",
    "#Initialize your connection\n",
    "conn = dbapi.connect(\n",
    "    address='10.2.17.31',\n",
    "    port='5000',\n",
    "    user='TEACH-007',\n",
    "    password='abc123ABC!@#'\n",
    ")\n",
    "#If no errors, print connected\n",
    "print('connected')\n"
   ]
  },
  {
   "cell_type": "code",
   "execution_count": null,
   "id": "e4ca51c6-d8bc-432a-bb83-4222804287fe",
   "metadata": {},
   "outputs": [],
   "source": []
  }
 ],
 "metadata": {
  "kernelspec": {
   "display_name": "Python 3 (ipykernel)",
   "language": "python",
   "name": "python3"
  },
  "language_info": {
   "codemirror_mode": {
    "name": "ipython",
    "version": 3
   },
   "file_extension": ".py",
   "mimetype": "text/x-python",
   "name": "python",
   "nbconvert_exporter": "python",
   "pygments_lexer": "ipython3",
   "version": "3.9.7"
  }
 },
 "nbformat": 4,
 "nbformat_minor": 5
}
